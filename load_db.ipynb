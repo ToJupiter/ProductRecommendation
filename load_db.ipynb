{
 "cells": [
  {
   "cell_type": "code",
   "execution_count": 13,
   "metadata": {},
   "outputs": [],
   "source": [
    "from sqlalchemy import create_engine, Integer, insert\n",
    "from sqlalchemy.schema import Table, MetaData, Column\n",
    "from sqlalchemy.sql.expression import select, text\n",
    "from sqlalchemy.exc import SQLAlchemyError, DBAPIError\n",
    "import pandas as pd"
   ]
  },
  {
   "cell_type": "code",
   "execution_count": null,
   "metadata": {},
   "outputs": [],
   "source": [
    "!./starrocks_docker.sh"
   ]
  },
  {
   "cell_type": "code",
   "execution_count": 14,
   "metadata": {},
   "outputs": [],
   "source": [
    "engine = create_engine('starrocks://root:@localhost:9030/product_recommendation')"
   ]
  },
  {
   "cell_type": "code",
   "execution_count": null,
   "metadata": {},
   "outputs": [],
   "source": [
    "def read_file_to_string(filepath):\n",
    "  try:\n",
    "    with open(filepath, 'r') as file:\n",
    "      file_content = file.read()\n",
    "    return file_content\n",
    "  except FileNotFoundError:\n",
    "    print(f\"Error: File not found at path: {filepath}\")\n",
    "    return None\n",
    "  except Exception as e:\n",
    "    print(f\"An error occurred: {e}\")\n",
    "    return None\n"
   ]
  },
  {
   "cell_type": "code",
   "execution_count": 15,
   "metadata": {},
   "outputs": [],
   "source": [
    "def sql_execute(engine, sql):\n",
    "    try:\n",
    "        with engine.connect() as connection:\n",
    "            result = connection.execute(text(sql))\n",
    "            rows = result.fetchall()\n",
    "            return engine, rows\n",
    "    except (SQLAlchemyError, DBAPIError) as e:\n",
    "        print(f\"A database error occurred: {e}\")\n",
    "        # Perform any necessary cleanup here, such as rolling back transactions.\n",
    "        # For example: connection.rollback()  (if you're in a transaction)\n",
    "\n",
    "        # Optionally, you can re-raise a specific exception or a custom exception\n",
    "        # to provide more context to the caller.  For instance:\n",
    "        # raise DatabaseError(\"Failed to execute SQL query\", e) from e\n",
    "        raise  # Re-raise the original exception\n",
    "    except Exception as e:\n",
    "        print(f\"An unexpected error occurred: {e}\")\n",
    "        raise  # Re-raise the exception"
   ]
  },
  {
   "cell_type": "code",
   "execution_count": 16,
   "metadata": {},
   "outputs": [
    {
     "name": "stdout",
     "output_type": "stream",
     "text": [
      "Query executed successfully!\n",
      "Rows: [(1,)]\n",
      "A database error occurred: (pymysql.err.OperationalError) (5502, \"Getting analyzing error. Detail message: Unknown table 'product_recommendation.non_existent_table'.\")\n",
      "[SQL: SELECT invalid_column FROM non_existent_table]\n",
      "(Background on this error at: https://sqlalche.me/e/20/e3q8)\n",
      "The calling function is handling the database error.\n"
     ]
    }
   ],
   "source": [
    "sql_query = \"SELECT 1\"\n",
    "\n",
    "try:\n",
    "    engine, rows = sql_execute(engine, sql_query)\n",
    "    print(\"Query executed successfully!\")\n",
    "    print(\"Rows:\", rows)\n",
    "except SQLAlchemyError:\n",
    "    print(\"The calling function is handling the database error.\")\n",
    "except Exception:\n",
    "    print(\"The calling function is handling unexpected error.\")\n",
    "\n",
    "\n",
    "sql_query_error = \"SELECT invalid_column FROM non_existent_table\"\n",
    "try:\n",
    "    engine, rows = sql_execute(engine, sql_query_error)\n",
    "    print(\"Query executed successfully!\")\n",
    "    print(\"Rows:\", rows)\n",
    "except SQLAlchemyError:\n",
    "    print(\"The calling function is handling the database error.\")\n",
    "except Exception:\n",
    "    print(\"The calling function is handling unexpected error.\")"
   ]
  },
  {
   "cell_type": "code",
   "execution_count": null,
   "metadata": {},
   "outputs": [],
   "source": [
    "engine = create_engine('starrocks://root:@localhost:9030/product_recommendation')\n",
    "filepath = \"initiate_db.sql\"\n",
    "initiate_db = read_file_to_string(filepath)\n",
    "engine,rows = sql_execute(engine,initiate_db)"
   ]
  },
  {
   "cell_type": "code",
   "execution_count": null,
   "metadata": {},
   "outputs": [],
   "source": [
    "!./stream_load_starrocks.sh"
   ]
  }
 ],
 "metadata": {
  "kernelspec": {
   "display_name": "dataflow",
   "language": "python",
   "name": "python3"
  },
  "language_info": {
   "codemirror_mode": {
    "name": "ipython",
    "version": 3
   },
   "file_extension": ".py",
   "mimetype": "text/x-python",
   "name": "python",
   "nbconvert_exporter": "python",
   "pygments_lexer": "ipython3",
   "version": "3.13.1"
  }
 },
 "nbformat": 4,
 "nbformat_minor": 2
}
